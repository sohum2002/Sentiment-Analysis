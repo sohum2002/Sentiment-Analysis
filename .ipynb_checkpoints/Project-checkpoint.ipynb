{
 "metadata": {
  "name": "",
  "signature": "sha256:5a20b17be9f0e96ef5c501bed11cce588005a4f4d1f3dfa64c214aee0c9777a3"
 },
 "nbformat": 3,
 "nbformat_minor": 0,
 "worksheets": [
  {
   "cells": [
    {
     "cell_type": "heading",
     "level": 3,
     "metadata": {},
     "source": [
      "Import stuff and initialize authentication keys."
     ]
    },
    {
     "cell_type": "code",
     "collapsed": false,
     "input": [
      "%matplotlib inline\n",
      "import matplotlib.pyplot as plt\n",
      "from TwitterSearch import *\n",
      "import json\n",
      "import requests\n",
      "import re\n",
      "import random\n",
      "import string\n",
      "import pandas as pd\n",
      "from pandas import date_range\n",
      "from pandas import DataFrame as df\n",
      "from pandas import Series\n",
      "from pygeocoder import Geocoder\n",
      "from time import gmtime, strftime \n",
      "from datetime import *\n",
      "import csv\n",
      "import numpy as np\n",
      "import os\n",
      "\n",
      "requests.packages.urllib3.disable_warnings()\n",
      "\n",
      "consumer_key = 'fFjs5SW5IAkQzNZEzzQFBzu4N'\n",
      "consumer_secret = '4i6Blrn4nEVwwRfgguZzsfeGF8IGoADMuk24YvxqGsCTHHhuRv'\n",
      "access_token = '81023466-yWgvyn5EUzNpHXEESdgvj0Vg7m9F8LN9AttfzoPuJ'\n",
      "access_token_secret = 'uHAJyzyxb9V8yNbWqEPFVzxqfNZ9aST7fks3io1xmzIeV'"
     ],
     "language": "python",
     "metadata": {},
     "outputs": [],
     "prompt_number": 1
    },
    {
     "cell_type": "heading",
     "level": 3,
     "metadata": {},
     "source": [
      "Searching part - make the calls to search API of twitter and store the needed data in lists"
     ]
    },
    {
     "cell_type": "markdown",
     "metadata": {},
     "source": [
      "In this code, I'm utilizing TwitterSearch library which is a library used specifically for Twitter's search function. I can search by hashtag, reference or text; which in theory comes down to a simple string search.\n",
      "\n",
      "The API returns a JSON where I extracted the needed information"
     ]
    },
    {
     "cell_type": "code",
     "collapsed": false,
     "input": [
      "keyword = \"@BarackObama\"\n",
      "tweetAmount = 1000"
     ],
     "language": "python",
     "metadata": {},
     "outputs": [],
     "prompt_number": 2
    },
    {
     "cell_type": "code",
     "collapsed": false,
     "input": [
      "try:\n",
      "    tso = TwitterSearchOrder() # create a TwitterSearchOrder object\n",
      "    tso.set_keywords([keyword]) # let's define all words we would like to have a look for\n",
      "    tso.set_language('en') # we want to see English tweets only\n",
      "    tso.set_include_entities(False) # and don't give us all those entity information\n",
      "\n",
      "    # it's about time to create a TwitterSearch object with our secret tokens\n",
      "    ts = TwitterSearch(\n",
      "        consumer_key = consumer_key,\n",
      "        consumer_secret = consumer_secret,\n",
      "        access_token = access_token,\n",
      "        access_token_secret = access_token_secret\n",
      "     )\n",
      "\n",
      "    iterableLimit = tweetAmount\n",
      "    currentIterables = 0\n",
      "    tweetTexts = []\n",
      "    tweetTimes = []\n",
      "    tweetLocations = []\n",
      "    allTweets_retweet_part = []\n",
      "    coordinate = []\n",
      "\n",
      "    for tweet in ts.search_tweets_iterable(tso):\n",
      "        if currentIterables == iterableLimit:\n",
      "            break\n",
      "        else:\n",
      "            tweetTexts.append(tweet['text'].encode('ascii', 'ignore'))\n",
      "            tweetLocations.append(tweet['user']['location'])\n",
      "            tweetTimes.append(tweet['created_at'])\n",
      "            coordinate.append(tweet['geo'])\n",
      "        currentIterables += 1\n",
      "\n",
      "except TwitterSearchException as e: # take care of all those ugly errors if there are some\n",
      "    print(e)"
     ],
     "language": "python",
     "metadata": {},
     "outputs": [],
     "prompt_number": 3
    },
    {
     "cell_type": "heading",
     "level": 3,
     "metadata": {},
     "source": [
      "Parse and clean the data accessed "
     ]
    },
    {
     "cell_type": "markdown",
     "metadata": {},
     "source": [
      "In this code, I'm going through each tweet which is called and seperating hashtag [#], reference [@] and plainText."
     ]
    },
    {
     "cell_type": "code",
     "collapsed": false,
     "input": [
      "allTweets = []\n",
      "allTweets_hashTagged_part = []\n",
      "allTweets_referenced_part = []\n",
      "allTweets_plainText_part = []\n",
      "allURL = []\n",
      "allTweets_retweet_part = []\n",
      "allTweets_location = []\n",
      "allTweets_times = []\n",
      "allTweets_text = []\n",
      "\n",
      "idx = 0\n",
      "\n",
      "#Regex to detect URL's\n",
      "URL_regex = ur'(?i)\\b((?:https?://|www\\d{0,3}[.]|[a-z0-9.\\-]+[.][a-z]{2,4}/)(?:[^\\s()<>]+|\\(([^\\s()<>]+|(\\([^\\s()<>]+\\)))*\\))+(?:\\(([^\\s()<>]+|(\\([^\\s()<>]+\\)))*\\)|[^\\s`!()\\[\\]{};:\\'\".,<>?\\xab\\xbb\\u201c\\u201d\\u2018\\u2019]))'\n",
      "hashtag_regex = r\"#(\\w+)\"\n",
      "reference_regex = \"@([A-Za-z0-9_]+)\"\n",
      "\n",
      "if len(tweetTexts) == 0:\n",
      "    print \"There is no matches\"\n",
      "\n",
      "for eachTweet in tweetTexts:\n",
      "    rawTweet = eachTweet\n",
      "    plain_text = \"\"\n",
      "    found_reference = []\n",
      "    URL_part = []\n",
      "    found_hash = []\n",
      "    \n",
      "    if eachTweet[:3].upper() == \"RT.\":\n",
      "        eachTweet = eachTweet[3:]\n",
      "    elif eachTweet[:2].upper() == \"RT\":\n",
      "        eachTweet = eachTweet[2:]\n",
      "\n",
      "    #Referenced part\n",
      "    found_reference = re.findall(reference_regex, eachTweet)\n",
      "    \n",
      "    for i in range(len(found_reference)):\n",
      "        found_reference[i] = \"@\"+found_reference[i]\n",
      "    \n",
      "    #URL part\n",
      "    found_url = re.findall(URL_regex, eachTweet)\n",
      "    for eachMatches in found_url:\n",
      "        for eachMatch in eachMatches:\n",
      "            if len(eachMatch) != 0:\n",
      "                URL_part.append(eachMatch)\n",
      "    \n",
      "    #Hashtag part\n",
      "    found_hash = re.findall(hashtag_regex, eachTweet)\n",
      "    for i in range(len(found_hash)):\n",
      "        found_hash[i] = \"#\"+found_hash[i]\n",
      "    \n",
      "    #Plain text part \n",
      "    \n",
      "    #Only remove the hashtag symbols because it could be important in determining syntax\n",
      "    for i in found_hash:\n",
      "        eachTweet = eachTweet.replace(\"#\",\"\")\n",
      "    for j in found_reference:\n",
      "        eachTweet = eachTweet.replace(j,\"\")\n",
      "    for k in URL_part:\n",
      "        eachTweet = eachTweet.replace(k,\"\")\n",
      "    \n",
      "    #Detect HTML character codes and convert them to normal\n",
      "    \n",
      "    tweet_splitted = eachTweet.split()\n",
      "    \n",
      "    for each_word in tweet_splitted:\n",
      "        if \"&gt;\" in each_word:\n",
      "            eachTweet = eachTweet.replace(\"&gt;\",\">\")\n",
      "        elif \"&lt;\" in each_word:\n",
      "            eachTweet = eachTweet.replace(\"&lt;\",\"<\")\n",
      "        elif \"&amp;\" in each_word:\n",
      "            eachTweet = eachTweet.replace(\"&amp;\",\"and\")\n",
      "            \n",
      "    #Detect and remove basic punctuations\n",
      "    for each_letter in eachTweet:\n",
      "        if each_letter in string.punctuation and len(each_letter) == 1:\n",
      "            eachTweet = eachTweet.replace(each_letter,\"\")\n",
      "    \n",
      "    if eachTweet.lower() not in allTweets_plainText_part:\n",
      "        idx += 1\n",
      "        allTweets.append(rawTweet)\n",
      "        allTweets_plainText_part.append(eachTweet.lower())\n",
      "        allTweets_referenced_part.append(found_reference)\n",
      "        allURL.append(URL_part)\n",
      "        allTweets_hashTagged_part.append(found_hash)\n",
      "        allTweets_location.append(tweetLocations[idx])\n",
      "        allTweets_times.append(tweetTimes[idx])\n",
      "        allTweets_text.append(eachTweet)\n",
      "        \n",
      "    newpath = str(keyword) + str(tweetAmount) \n",
      "    if not os.path.exists(newpath):\n",
      "            os.makedirs(newpath)\n",
      "        \n",
      "assert(len(allTweets_hashTagged_part) ==\n",
      "       len(allTweets_referenced_part) == \n",
      "       len(allTweets_plainText_part) == \n",
      "       len(allURL) == \n",
      "       len(allTweets_times) == \n",
      "       len(allTweets_location) ==\n",
      "       len(allTweets_text))"
     ],
     "language": "python",
     "metadata": {},
     "outputs": [],
     "prompt_number": 4
    },
    {
     "cell_type": "heading",
     "level": 3,
     "metadata": {},
     "source": [
      "Importing the words and their syntax score from VADER"
     ]
    },
    {
     "cell_type": "markdown",
     "metadata": {},
     "source": [
      "Then putting it into pandas dataframe and taking out the unneeded columns and processing it for easy usage\n",
      "\n",
      "Note: \n",
      "- Score is average of 10 scores of people from -4 to 4\n",
      "- Intensity is"
     ]
    },
    {
     "cell_type": "code",
     "collapsed": false,
     "input": [
      "allWords = []\n",
      "with open(\"vader_sentiment_lexicon.txt\") as f:\n",
      "    for word in f:\n",
      "        allWords.append(word.split())\n",
      "\n",
      "vader_df = df(allWords)\n",
      "vader_df = vader_df.drop([3,4,5,6,7,8,9,10,11,12,13,14],1)\n",
      "vader_df.columns = [\"Word\", \"Score\", \"Standard Deviation\"]"
     ],
     "language": "python",
     "metadata": {},
     "outputs": [],
     "prompt_number": 9
    },
    {
     "cell_type": "code",
     "collapsed": false,
     "input": [
      "#Convert the scores into float and fix it if the placement is mixed up\n",
      "\n",
      "for i in range(len(vader_df['Score'])):\n",
      "    try:\n",
      "        vader_df['Score'][i] = float(vader_df['Score'][i])\n",
      "    except:\n",
      "        try:\n",
      "             vader_df['Score'][i] = float(vader_df['Standard Deviation'][i])\n",
      "        except ValueError:\n",
      "            vader_df = vader_df.drop(vader_df.index[i])"
     ],
     "language": "python",
     "metadata": {},
     "outputs": [],
     "prompt_number": 10
    },
    {
     "cell_type": "code",
     "collapsed": false,
     "input": [
      "#Putting the tweets and their respective stuff in a dataframe\n",
      "\n",
      "all_info = []\n",
      "\n",
      "# allTweets_hashTagged_part = [item for sublist in allTweets_hashTagged_part for item in sublist]\n",
      "# allTweets_referenced_part = [item for sublist in allTweets_referenced_part for item in sublist]\n",
      "\n",
      "for i in range(len(allTweets_plainText_part)):\n",
      "    curr = []\n",
      "    curr.append(allTweets[i])\n",
      "    curr.append(allTweets_plainText_part[i])\n",
      "    curr.append(allTweets_hashTagged_part[i])\n",
      "    curr.append(allTweets_referenced_part[i])\n",
      "    curr.append(allURL[i])\n",
      "    curr.append(allTweets_location[i])\n",
      "    curr.append(allTweets_times[i])\n",
      "    all_info.append(curr)\n",
      "\n",
      "tweets_df = df(all_info, columns=[\"Raw Tweet\", \"Text Extraction\", \"Hashtag Extraction\", \"Reference Extraction\", \"URL Extraction\", \"Tweet Location\", \"Tweet Time\"])\n",
      "tweets_df.to_csv(newpath+\"/\"+\"Parsed Data.csv\", encoding=\"utf-8\")"
     ],
     "language": "python",
     "metadata": {},
     "outputs": [],
     "prompt_number": 11
    },
    {
     "cell_type": "code",
     "collapsed": false,
     "input": [
      "string_df = df()\n",
      "\n",
      "allTweets_number_total_words = []\n",
      "normal_allTweets_words_found = []\n",
      "normal_allTweets_words_found_length = []\n",
      "normal_allTweet_percent = []\n",
      "normal_allTweet_scores = []\n",
      "\n",
      "vader_words = vader_df[\"Word\"].tolist()\n",
      "vader_scores = vader_df[\"Score\"].tolist()\n",
      "\n",
      "for i in range(len(tweets_df[\"Text Extraction\"])):\n",
      "    curr_words_found = []\n",
      "    semantic_score = []\n",
      "    for eachWord in tweets_df[\"Text Extraction\"][i].split():\n",
      "        \n",
      "        if eachWord in vader_words:\n",
      "            idx = vader_words.index(eachWord)\n",
      "            curr_words_found.append(eachWord)\n",
      "            semantic_score.append(vader_scores[idx])\n",
      "    \n",
      "    words_in_tweet = len(tweets_df[\"Text Extraction\"][i].split())\n",
      "    \n",
      "    if len(semantic_score) > 0.0:\n",
      "        sem = sum(semantic_score)/len(semantic_score)\n",
      "    elif len(semantic_score) == 0.0:\n",
      "        sem = sum(semantic_score)/1\n",
      "    else:\n",
      "        print \"error\"\n",
      "        \n",
      "    allTweets_number_total_words.append(words_in_tweet)\n",
      "    normal_allTweets_words_found.append(curr_words_found)\n",
      "    normal_allTweets_words_found_length.append(len(curr_words_found))\n",
      "    normal_allTweet_percent.append(float(len(curr_words_found) / float(words_in_tweet)) * 100)\n",
      "    normal_allTweet_scores.append(sem)\n",
      "    \n",
      "    \n",
      "string_df.insert(0, \"Text\", allTweets_text)\n",
      "string_df.insert(1, \"Total num. of Words\", allTweets_number_total_words)\n",
      "string_df.insert(2, \"VLength\", normal_allTweets_words_found_length)\n",
      "string_df.insert(3, \"Vader Words Matches\", normal_allTweets_words_found)\n",
      "string_df.insert(4, \"Semantic Score (-4 to 4)\", normal_allTweet_scores)\n",
      "string_df.insert(5, \"Rate of All Words / Vader Words\", normal_allTweet_percent)\n",
      "string_df.insert(6, \"Date\", allTweets_times)\n",
      "\n",
      "string_df = string_df[string_df.VLength != 0]\n",
      "\n",
      "string_df.to_csv(newpath+\"/\"+\"Sentimental Analysis.csv\", encoding=\"utf-8\")"
     ],
     "language": "python",
     "metadata": {},
     "outputs": [],
     "prompt_number": 12
    },
    {
     "cell_type": "code",
     "collapsed": false,
     "input": [
      "from dateutil import parser\n",
      "\n",
      "plottable_dates = []\n",
      "\n",
      "ave_score = sum(string_df['Semantic Score (-4 to 4)']) / len(string_df['Semantic Score (-4 to 4)'])\n",
      "\n",
      "for i in string_df[\"Date\"]:\n",
      "    plottable_dates.append(parser.parse(i))\n",
      "\n",
      "ave_score_list = []\n",
      "for i in string_df['Date']:\n",
      "    ave_score_list.append(ave_score)\n",
      "    \n",
      "f = plt.figure()\n",
      "f.set_size_inches(15,12)\n",
      "ax = f.add_subplot(111)\n",
      "l1 = ax.plot(plottable_dates, string_df[\"Semantic Score (-4 to 4)\"], 'x', )\n",
      "l2 = ax.plot(plottable_dates, ave_score_list)\n",
      "plt.legend([\"Semantic Score\",\"Average Score\"])\n",
      "plt.xlabel(\"Time\")\n",
      "plt.ylabel(\"Score\")\n",
      "f.savefig(newpath+\"/\"+\"SentimentalValue.pdf\")"
     ],
     "language": "python",
     "metadata": {},
     "outputs": [
      {
       "metadata": {},
       "output_type": "display_data",
       "png": "[encoded data removed]",
       "text": [
        "<matplotlib.figure.Figure at 0x108571250>"
       ]
      }
     ],
     "prompt_number": 14
    },
    {
     "cell_type": "markdown",
     "metadata": {},
     "source": [
      "#Now we want to find the most common words WITH sentimental value"
     ]
    },
    {
     "cell_type": "code",
     "collapsed": false,
     "input": [
      "numWords = 12"
     ],
     "language": "python",
     "metadata": {},
     "outputs": [],
     "prompt_number": 15
    },
    {
     "cell_type": "code",
     "collapsed": false,
     "input": [
      "freqWord = {}\n",
      "\n",
      "for each_list in string_df['Vader Words Matches']:\n",
      "    for each_word in each_list:\n",
      "        if each_word not in freqWord:\n",
      "            freqWord[each_word] = 1\n",
      "        else:\n",
      "            freqWord[each_word] += 1\n",
      "\n",
      "freqword_df = df(freqWord.items())\n",
      "freqword_df = freqword_df.sort(1, ascending=False)\n",
      "freqPlot = freqword_df[:12].plot(x=0,y=1,kind='barh')\n",
      "fig = freqPlot.get_figure()\n",
      "\n",
      "fig.savefig(newpath+\"/\"+\"CommonWords.pdf\")"
     ],
     "language": "python",
     "metadata": {},
     "outputs": [
      {
       "metadata": {},
       "output_type": "display_data",
       "png": "[encoded data removed]",
       "text": [
        "<matplotlib.figure.Figure at 0x1063e5890>"
       ]
      }
     ],
     "prompt_number": 16
    }
   ],
   "metadata": {}
  }
 ]
}